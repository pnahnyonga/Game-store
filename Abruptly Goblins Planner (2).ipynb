{
  "metadata": {
    "kernelspec": {
      "name": "python",
      "display_name": "Python (Pyodide)",
      "language": "python"
    },
    "language_info": {
      "codemirror_mode": {
        "name": "python",
        "version": 3
      },
      "file_extension": ".py",
      "mimetype": "text/x-python",
      "name": "python",
      "nbconvert_exporter": "python",
      "pygments_lexer": "ipython3",
      "version": "3.8"
    }
  },
  "nbformat_minor": 4,
  "nbformat": 4,
  "cells": [
    {
      "cell_type": "markdown",
      "source": "# Introduction\n\nOpening your comic book store, the Sorcery Society, has been a lifelong dream come true. You quickly diversified your shop offerings to include miniatures, plush toys, collectible card games, and board games. Eventually, the store became more a games store with a selection of this week's newest comic books and a small offering of graphic novel paperbacks. Completing your transformation means offering space for local tabletop gamers. They love to play their favorite RPG, \"Abruptly Goblins!\" and will happily pay you per chair to secure the space to do it. Unfortunately, planning the game night has fallen to you. If you pick the wrong night, not enough people will come and the game night will be cancelled. You decide it's best that you automate the game night selector to get the most people through the door. First you need to create a list of people who will be attending the game night.\n\n**Instructions**\n\nCreate an empty list called `gamers`. This will be your list of people who are attending game night.      ",
      "metadata": {}
    },
    {
      "cell_type": "code",
      "source": "gamers = []",
      "metadata": {
        "trusted": true
      },
      "outputs": [],
      "execution_count": 1
    },
    {
      "cell_type": "code",
      "source": "gamers",
      "metadata": {
        "trusted": true
      },
      "outputs": [
        {
          "execution_count": 2,
          "output_type": "execute_result",
          "data": {
            "text/plain": "[]"
          },
          "metadata": {}
        }
      ],
      "execution_count": 2
    },
    {
      "cell_type": "markdown",
      "source": "Now we want to create a function that will update this list and add a new gamer to the this `gamers` list. Each `gamer` should be a dictionary with the following keys:\n - `\"name\"`: a string that contains the gamer's full or presumed name. E.g., \"Vicky Very\"\n - `\"availability\"`: a list of strings containing the names of the days of the week that the gamer is available. E.g., [\"Monday\", \"Thursday\", \"Sunday\"]\n \n**Instructions**\n\nCreate a function called `add_gamer` that takes two parameters: `gamer` and `gamers_list`. The function should check that the argument passed to the `gamer` parameter has both `\"name\"` and a `\"availability\"` as keys and if so add `gamer` to `gamers_list`.",
      "metadata": {}
    },
    {
      "cell_type": "code",
      "source": "def add_gamer(gamer, gamers_list):\n    if 'name' in gamer and 'availability' in gamer:\n        gamers_list.append(gamer)",
      "metadata": {
        "trusted": true
      },
      "outputs": [],
      "execution_count": 3
    },
    {
      "cell_type": "markdown",
      "source": "Next we want to add our first gamer! Her name is Kimberly Warner and she's available on Mondays, Tuesdays, and Fridays.\n\n**Instructions**\n\n1. Create a dictionary called `kimberly` with the name and availability given above.\n2. Call `add_gamer` with `kimberly` as the first argument and `gamers` as the second.",
      "metadata": {}
    },
    {
      "cell_type": "code",
      "source": "kimberly = {\"name\": \"John\", \"availability\": [\"Monday\", \"Tuesday\", \"Friday\"]}\nadd_gamer (kimberly, gamers)\n\nprint (gamers)",
      "metadata": {
        "trusted": true
      },
      "outputs": [
        {
          "name": "stdout",
          "text": "[{'name': 'John', 'availability': ['Monday', 'Tuesday', 'Friday']}]\n",
          "output_type": "stream"
        }
      ],
      "execution_count": 4
    },
    {
      "cell_type": "markdown",
      "source": "Great! Let's add a couple more gamers to the list!",
      "metadata": {}
    },
    {
      "cell_type": "code",
      "source": "add_gamer({'name':'Thomas Nelson','availability': [\"Tuesday\", \"Thursday\", \"Saturday\"]}, gamers)\nadd_gamer({'name':'Joyce Sellers','availability': [\"Monday\", \"Wednesday\", \"Friday\", \"Saturday\"]}, gamers)\nadd_gamer({'name':'Michelle Reyes','availability': [\"Wednesday\", \"Thursday\", \"Sunday\"]}, gamers)\nadd_gamer({'name':'Stephen Adams','availability': [\"Thursday\", \"Saturday\"]}, gamers)\nadd_gamer({'name': 'Joanne Lynn', 'availability': [\"Monday\", \"Thursday\"]}, gamers)\nadd_gamer({'name':'Latasha Bryan','availability': [\"Monday\", \"Sunday\"]}, gamers)\nadd_gamer({'name':'Crystal Brewer','availability': [\"Thursday\", \"Friday\", \"Saturday\"]}, gamers)\nadd_gamer({'name':'James Barnes Jr.','availability': [\"Tuesday\", \"Wednesday\", \"Thursday\", \"Sunday\"]}, gamers)\nadd_gamer({'name':'Michel Trujillo','availability': [\"Monday\", \"Tuesday\", \"Wednesday\"]}, gamers)",
      "metadata": {
        "trusted": true
      },
      "outputs": [],
      "execution_count": 5
    },
    {
      "cell_type": "code",
      "source": "print (gamers)",
      "metadata": {
        "trusted": true
      },
      "outputs": [
        {
          "name": "stdout",
          "text": "[{'name': 'John', 'availability': ['Monday', 'Tuesday', 'Friday']}, {'name': 'Thomas Nelson', 'availability': ['Tuesday', 'Thursday', 'Saturday']}, {'name': 'Joyce Sellers', 'availability': ['Monday', 'Wednesday', 'Friday', 'Saturday']}, {'name': 'Michelle Reyes', 'availability': ['Wednesday', 'Thursday', 'Sunday']}, {'name': 'Stephen Adams', 'availability': ['Thursday', 'Saturday']}, {'name': 'Joanne Lynn', 'availability': ['Monday', 'Thursday']}, {'name': 'Latasha Bryan', 'availability': ['Monday', 'Sunday']}, {'name': 'Crystal Brewer', 'availability': ['Thursday', 'Friday', 'Saturday']}, {'name': 'James Barnes Jr.', 'availability': ['Tuesday', 'Wednesday', 'Thursday', 'Sunday']}, {'name': 'Michel Trujillo', 'availability': ['Monday', 'Tuesday', 'Wednesday']}]\n",
          "output_type": "stream"
        }
      ],
      "execution_count": 6
    },
    {
      "cell_type": "markdown",
      "source": "## Finding the perfect availability\n\nNow that we have a list of all of the people interested in game night, we want to be able to calculate which nights would have the most participation. First we need to create a frequency table which correlates each day of the week with gamer availability.\n\n**Instructions**\n\nCreate a function called `build_daily_frequency_table` that takes no argument returns a dictionary with the days of the week as keys and `0`s for values. We'll be using this to count the availability per night. Call `build_daily_frequency_table` and save the results to a variable called `count_availability`.",
      "metadata": {}
    },
    {
      "cell_type": "code",
      "source": "def build_daily_frequency_table():\n    days = [\"Monday\", \"Tuesday\", \"Wednesday\", \"Thursday\", \"Friday\", \"Saturday\", \"Sunday\"]\n    values = [0, 0, 0, 0, 0, 0, 0]\n    a_dict = {day:a_value for day, a_value in zip(days, values)}\n    return a_dict\n\ncount_availability = build_daily_frequency_table()\ncount_availability",
      "metadata": {
        "trusted": true
      },
      "outputs": [
        {
          "execution_count": 7,
          "output_type": "execute_result",
          "data": {
            "text/plain": "{'Monday': 0,\n 'Tuesday': 0,\n 'Wednesday': 0,\n 'Thursday': 0,\n 'Friday': 0,\n 'Saturday': 0,\n 'Sunday': 0}"
          },
          "metadata": {}
        }
      ],
      "execution_count": 7
    },
    {
      "cell_type": "markdown",
      "source": "Next we need to count the number of people every night.\n\n**Instructions**\n\nWrite a function called `calculate_availability` that takes a list of gamers as an argument `gamers_list` and a frequency table `available_frequency`. The function should iterate through each gamer in `gamers_list` and iterate through each day in the gamer's availability. For each day in the gamer's availability, add one to that date on the frequency table.",
      "metadata": {}
    },
    {
      "cell_type": "code",
      "source": "def  calculate_availability(gamers_list, available_frequency):\n        for item in gamers_list:\n            availab = item['availability']\n            for day in availab:\n                available_frequency[day] += 1\n",
      "metadata": {
        "trusted": true
      },
      "outputs": [],
      "execution_count": 8
    },
    {
      "cell_type": "markdown",
      "source": "Now let's use these tools to find the best night to run Abruptly Goblins!\n\n**Instructions**\n\nCall `calculate_availability` with `gamers` and `count_availability`. Print out `count_availability` afterwards.",
      "metadata": {}
    },
    {
      "cell_type": "code",
      "source": "calculate_availability(gamers, count_availability)\nprint(count_availability)",
      "metadata": {
        "scrolled": true,
        "trusted": true
      },
      "outputs": [
        {
          "name": "stdout",
          "text": "{'Monday': 15, 'Tuesday': 12, 'Wednesday': 12, 'Thursday': 18, 'Friday': 9, 'Saturday': 12, 'Sunday': 9}\n",
          "output_type": "stream"
        }
      ],
      "execution_count": 87
    },
    {
      "cell_type": "markdown",
      "source": "Lastly we need a way to pick the day with the most available people to attend so that we can schedule game night on that night.\n\n**Instructions**\n\nWrite a function `find_best_night` that takes a dictionary `availability_table` and returns the key with the highest number.",
      "metadata": {}
    },
    {
      "cell_type": "code",
      "source": "def find_best_night(availability_table):\n    return max(availability_table, key=availability_table.get)\n\n ",
      "metadata": {
        "trusted": true
      },
      "outputs": [],
      "execution_count": 10
    },
    {
      "cell_type": "code",
      "source": "",
      "metadata": {
        "trusted": true
      },
      "outputs": [],
      "execution_count": null
    },
    {
      "cell_type": "markdown",
      "source": "Now let's find the best day to host game night.\n\n**Instructions**\n\nCall `find_best_night` with `count_availability`, store the result in a variable called `game_night`.\nPrint out `game_night` to find out which day it is.",
      "metadata": {}
    },
    {
      "cell_type": "code",
      "source": "game_night = find_best_night(count_availability)\nprint(game_night)",
      "metadata": {
        "trusted": true
      },
      "outputs": [
        {
          "name": "stdout",
          "text": "Thursday\n",
          "output_type": "stream"
        }
      ],
      "execution_count": 32
    },
    {
      "cell_type": "markdown",
      "source": "And let's make a list of all of the people who are available that night.\n\n**Instructions**\n\n* Create a function `available_on_night` that takes two parameters: `gamers_list` and `day` and returns a list of people who are available on that particular day.\n* Call `available_on_night` with `gamers` and `game_night` and save the result into the variable `attending_game_night`.\n* Print `attending_game_night`.",
      "metadata": {}
    },
    {
      "cell_type": "code",
      "source": "def available_on_night(gamers_list, day):\n    for a_dict in gamers_list:\n        availability = a_dict[\"availability\"]\n        for aday in availability:\n            if aday == day:\n                return a_dict[\"name\"]\nattending_game_night = available_on_night(gamers, game_night)\nprint(attending_game_night)",
      "metadata": {
        "trusted": true
      },
      "outputs": [
        {
          "name": "stdout",
          "text": "Thomas Nelson\n",
          "output_type": "stream"
        }
      ],
      "execution_count": 31
    },
    {
      "cell_type": "markdown",
      "source": "## Generating an E-mail for the Participants\n\nWith the best day for Abruptly Goblins! determined with computer precision, we need to let the attendees know that the game night is on a night they can attend. Let's start by creating a form email to send to each of the participants that we'll fill out with data later.\n\n**Instructions**\n\nDefine a string, called `form_email` with interpolation variables `{name}`, `{day_of_week}`, and `{game}` (in case we decide we want to use this featureset to host a different game night). Use it to tell your gaming attendees the night their Abruptly Goblins! game can be played.",
      "metadata": {}
    },
    {
      "cell_type": "code",
      "source": "form_email = \" hi {name}, on {day_of_week} is game night for the {game}. See you!\"\nname = \"gamers\"  #defining the variables\nday_of_week = \"Thursday\"\ngame = \"Abruptly Goblins\"\n\nemail_message = form_email.format(name= \"gamers\", day_of_week = \"Thursday\", game =\"Abruptly Goblins\")#creating the email message using defined stringPrint\nprint(email_message)#(email_message) #sending the Email to attendees\n",
      "metadata": {
        "trusted": true
      },
      "outputs": [
        {
          "name": "stdout",
          "text": " hi gamers, on Thursday is game night for the Abruptly Goblins. See you!\n",
          "output_type": "stream"
        }
      ],
      "execution_count": 13
    },
    {
      "cell_type": "markdown",
      "source": "**Instructions**\n\nCreate a function `send_email` with three parameters: `gamers_who_can_attend`, `day`, and `game`. Print `form_email` for each gamer in `gamers_who_can_attend` with the appropriate `day` and `game`.\nCall `send_email` with `attending_game_night`, `game_night`, and `\"Abruptly Goblins!\"`.",
      "metadata": {}
    },
    {
      "cell_type": "code",
      "source": "def send_email(gamers_who_can_attend, day, game):\n    form_email = \"hi {name}, on {day} is game night for the {game}. See you!\"\n    print(form_email.format(name=gamers_who_can_attend, day=day,game=game))\n    \ngame_night = \"thursday\"\nattending_game_night = \"Thomas Nelson\"\ngame = \"Abruptly Goblins\"\nsend_email(attending_game_night, game_night ,game = \"Abruptly Goblins\")",
      "metadata": {
        "trusted": true
      },
      "outputs": [
        {
          "name": "stdout",
          "text": "hi Thomas Nelson, on thursday is game night for the Abruptly Goblins. See you!\n",
          "output_type": "stream"
        }
      ],
      "execution_count": 27
    },
    {
      "cell_type": "code",
      "source": "attending_game_night",
      "metadata": {
        "trusted": true
      },
      "outputs": [
        {
          "execution_count": 17,
          "output_type": "execute_result",
          "data": {
            "text/plain": "'Thomas Nelson'"
          },
          "metadata": {}
        }
      ],
      "execution_count": 17
    },
    {
      "cell_type": "markdown",
      "source": "### Afterward\n\nYou feel bad for the folks who weren't able to attend on the decided upon game night, and try to use your currently written methods to have a second game night of the week.\n\n**Instructions**\n\n* Create a list `unable_to_attend_best_night` of everyone in `gamers` that wasn't able to attend game night on `game_night`.\n* Create `second_night_availability` frequency table by calling `build_daily_frequency_table`.\n* Call `calculate_availability` with `unable_to_attend_best_night` and `second_night_availability`.\n* Call `find_best_night` with the now filled-in `second_night_availability`, save the results in `second_night`.\n",
      "metadata": {}
    },
    {
      "cell_type": "code",
      "source": "def unavailable_on_night(gamers_list, day):\n    final_list = []\n    for a_dict in gamers_list:\n        availability =  a_dict['availability']\n        name =  a_dict['name']\n        if not day in availability:\n            final_list.append(a_dict)\n    return final_list\n            \nunable_to_attend_best_night = unavailable_on_night(gamers, game_night)\nprint(unable_to_attend_best_night)",
      "metadata": {
        "trusted": true
      },
      "outputs": [
        {
          "name": "stdout",
          "text": "[{'name': 'John', 'availability': ['Monday', 'Tuesday', 'Friday']}, {'name': 'Joyce Sellers', 'availability': ['Monday', 'Wednesday', 'Friday', 'Saturday']}, {'name': 'Latasha Bryan', 'availability': ['Monday', 'Sunday']}, {'name': 'Michel Trujillo', 'availability': ['Monday', 'Tuesday', 'Wednesday']}]\n",
          "output_type": "stream"
        }
      ],
      "execution_count": 76
    },
    {
      "cell_type": "code",
      "source": "second_night_availability = build_daily_frequency_table()",
      "metadata": {
        "trusted": true
      },
      "outputs": [],
      "execution_count": 83
    },
    {
      "cell_type": "code",
      "source": "second_night_availability",
      "metadata": {
        "trusted": true
      },
      "outputs": [
        {
          "execution_count": 84,
          "output_type": "execute_result",
          "data": {
            "text/plain": "{'Monday': 0,\n 'Tuesday': 0,\n 'Wednesday': 0,\n 'Thursday': 0,\n 'Friday': 0,\n 'Saturday': 0,\n 'Sunday': 0}"
          },
          "metadata": {}
        }
      ],
      "execution_count": 84
    },
    {
      "cell_type": "code",
      "source": "calculate_availability(unable_to_attend_best_night, second_night_availability)\nsecond_night_availability",
      "metadata": {
        "trusted": true
      },
      "outputs": [
        {
          "execution_count": 88,
          "output_type": "execute_result",
          "data": {
            "text/plain": "{'Monday': 12,\n 'Tuesday': 6,\n 'Wednesday': 6,\n 'Thursday': 0,\n 'Friday': 6,\n 'Saturday': 3,\n 'Sunday': 3}"
          },
          "metadata": {}
        }
      ],
      "execution_count": 88
    },
    {
      "cell_type": "code",
      "source": "second_night = find_best_night(second_night_availability)\nsecond_night",
      "metadata": {
        "trusted": true
      },
      "outputs": [
        {
          "execution_count": 93,
          "output_type": "execute_result",
          "data": {
            "text/plain": "'Monday'"
          },
          "metadata": {}
        }
      ],
      "execution_count": 93
    },
    {
      "cell_type": "code",
      "source": "",
      "metadata": {
        "trusted": true
      },
      "outputs": [],
      "execution_count": null
    },
    {
      "cell_type": "markdown",
      "source": "Let's send out an email to everyone (whether they can attend the first night or not) whose marked themselves as available on our second game night.\n\n**Instructions**\n\n* Create the list `available_second_game_night` by calling `available_on_night` with `gamers` and `second_night`\n* Let the gamers know by calling `send_email` with `available_second_game_night`, `second_night`, and \"Abruptly Goblins!\"",
      "metadata": {}
    },
    {
      "cell_type": "code",
      "source": "available_second_game_night = available_on_night (gamers, second_night)\nsend_email(available_second_game_night, second_night, \"Abruptly Goblins\")",
      "metadata": {
        "trusted": true
      },
      "outputs": [
        {
          "name": "stdout",
          "text": "hi John, on Monday is game night for the Abruptly Goblins. See you!\n",
          "output_type": "stream"
        }
      ],
      "execution_count": 94
    },
    {
      "cell_type": "code",
      "source": "",
      "metadata": {
        "trusted": true
      },
      "outputs": [],
      "execution_count": null
    }
  ]
}